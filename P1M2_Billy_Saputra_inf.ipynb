{
 "cells": [
  {
   "cell_type": "markdown",
   "id": "215c7b96",
   "metadata": {},
   "source": [
    "# Phase 1 Milestone 2"
   ]
  },
  {
   "cell_type": "markdown",
   "id": "3f6a7c41",
   "metadata": {},
   "source": [
    "Name    : Billy Saputra\n",
    "\n",
    "Batch   : HCK-029"
   ]
  },
  {
   "cell_type": "markdown",
   "id": "80d3bc24",
   "metadata": {},
   "source": [
    "# Chapter X Inference Model "
   ]
  },
  {
   "cell_type": "markdown",
   "id": "23289ccc",
   "metadata": {},
   "source": [
    "## 10.1 Import Libraries"
   ]
  },
  {
   "cell_type": "code",
   "execution_count": 19,
   "id": "869d7e64",
   "metadata": {},
   "outputs": [],
   "source": [
    "import pandas as pd\n",
    "import pickle"
   ]
  },
  {
   "cell_type": "markdown",
   "id": "40f8ce20",
   "metadata": {},
   "source": [
    "## 10.2 Load the Saved Model"
   ]
  },
  {
   "cell_type": "code",
   "execution_count": null,
   "id": "7bf1dcea",
   "metadata": {},
   "outputs": [],
   "source": [
    "# Load the trained model pipeline\n",
    "with open('deployment/final_knn_model.pkl', 'rb') as file:\n",
    "    loaded_model = pickle.load(file)\n"
   ]
  },
  {
   "cell_type": "markdown",
   "id": "bb31db1e",
   "metadata": {},
   "source": [
    "## 10.3 Inputing Data"
   ]
  },
  {
   "cell_type": "code",
   "execution_count": 28,
   "id": "01471627",
   "metadata": {},
   "outputs": [],
   "source": [
    "# Sample customer input (without TARGET)\n",
    "sample_1 = {\n",
    "    'CODE_GENDER': 'F',\n",
    "    'NAME_EDUCATION_TYPE': 'Higher education',\n",
    "    'NAME_FAMILY_STATUS': 'Married',\n",
    "    'AMT_INCOME_TOTAL': 1350000,\n",
    "    'AMT_CREDIT': 2500000,\n",
    "    'AMT_ANNUITY': 120000,\n",
    "    'FLAG_OWN_CAR': 0,\n",
    "    'FLAG_OWN_REALTY': 1,\n",
    "    'AGE_YEARS': 30,\n",
    "    'YEARS_EMPLOYED': 3,\n",
    "    'YEARS_ID_PUBLISHED': 5,\n",
    "    'CNT_CHILDREN_GROUPED': '0',\n",
    "    'NAME_INCOME_TYPE_GROUPED': 'Working'\n",
    "}\n",
    "\n",
    "sample_2 = {\n",
    "    'CODE_GENDER': 'M',\n",
    "    'NAME_EDUCATION_TYPE': 'Secondary / secondary special',\n",
    "    'NAME_FAMILY_STATUS': 'Single / not married',\n",
    "    'AMT_INCOME_TOTAL': 1800000,\n",
    "    'AMT_CREDIT': 3500000,\n",
    "    'AMT_ANNUITY': 200000,\n",
    "    'FLAG_OWN_CAR': 1,\n",
    "    'FLAG_OWN_REALTY': 0,\n",
    "    'AGE_YEARS': 26,\n",
    "    'YEARS_EMPLOYED': 1,\n",
    "    'YEARS_ID_PUBLISHED': 2,\n",
    "    'CNT_CHILDREN_GROUPED': '1',\n",
    "    'NAME_INCOME_TYPE_GROUPED': 'Commercial associate'\n",
    "}\n"
   ]
  },
  {
   "cell_type": "markdown",
   "id": "da7771bd",
   "metadata": {},
   "source": [
    "## 10.4 Prediction"
   ]
  },
  {
   "cell_type": "code",
   "execution_count": 29,
   "id": "14f9d38f",
   "metadata": {},
   "outputs": [
    {
     "name": "stdout",
     "output_type": "stream",
     "text": [
      "   AGE_YEARS  AMT_CREDIT  PREDICTED_TARGET  PROBA_DEFAULT\n",
      "0         30     2500000                 1       0.775799\n",
      "1         26     3500000                 0       0.000000\n"
     ]
    }
   ],
   "source": [
    "# Combine Into DataFrame\n",
    "df_new_samples = pd.DataFrame([sample_1, sample_2])\n",
    "\n",
    "# Run Inference (Predict & Probability)\n",
    "predictions = loaded_model.predict(df_new_samples)\n",
    "proba = loaded_model.predict_proba(df_new_samples)\n",
    "\n",
    "# Attach Results Back to Samples\n",
    "df_new_samples['PREDICTED_TARGET'] = predictions\n",
    "df_new_samples['PROBA_DEFAULT'] = proba[:, 1]  # probability of class 1 (default)\n",
    "\n",
    "# Display key result\n",
    "print(df_new_samples[['AGE_YEARS', 'AMT_CREDIT', 'PREDICTED_TARGET', 'PROBA_DEFAULT']])\n"
   ]
  }
 ],
 "metadata": {
  "kernelspec": {
   "display_name": "base",
   "language": "python",
   "name": "python3"
  },
  "language_info": {
   "codemirror_mode": {
    "name": "ipython",
    "version": 3
   },
   "file_extension": ".py",
   "mimetype": "text/x-python",
   "name": "python",
   "nbconvert_exporter": "python",
   "pygments_lexer": "ipython3",
   "version": "3.12.7"
  }
 },
 "nbformat": 4,
 "nbformat_minor": 5
}
